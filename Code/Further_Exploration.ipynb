{
 "cells": [
  {
   "cell_type": "code",
   "execution_count": 1,
   "metadata": {},
   "outputs": [],
   "source": [
    "from matplotlib import pyplot as plt\n",
    "from scipy import stats as stats\n",
    "import pandas as pd\n",
    "import numpy as np\n",
    "\n",
    "df=pd.read_pickle('Scrapped Data\\team_batting_gamelogs.pkl')"
   ]
  },
  {
   "cell_type": "code",
   "execution_count": 7,
   "metadata": {},
   "outputs": [
    {
     "data": {
      "text/plain": [
       "Index(['#', 'Date', 'HA', 'Opp', 'Outcome', 'PA', 'AB', 'Runs', 'Hits', '2B',\n",
       "       '3B', 'HRs', 'RBI', 'Walks', 'Int_Walks', 'StrikeOuts', 'Hit_by_Pitch',\n",
       "       'Sac_Hits', 'Sac_Flies', 'Reach_on_Err', 'DPs_Ground', 'Stolen_Bases',\n",
       "       'Caught_Stealing', 'AVG', 'OBP', 'Slugging', 'OPS', 'Left_on_Base',\n",
       "       'Players_Used', 'Starter_LR', 'Starter_GScore', 'year'],\n",
       "      dtype='object')"
      ]
     },
     "execution_count": 7,
     "metadata": {},
     "output_type": "execute_result"
    }
   ],
   "source": [
    "df.columns"
   ]
  },
  {
   "cell_type": "code",
   "execution_count": 41,
   "metadata": {},
   "outputs": [],
   "source": []
  },
  {
   "cell_type": "code",
   "execution_count": null,
   "metadata": {},
   "outputs": [],
   "source": []
  }
 ],
 "metadata": {
  "kernelspec": {
   "display_name": "Python 3",
   "language": "python",
   "name": "python3"
  },
  "language_info": {
   "codemirror_mode": {
    "name": "ipython",
    "version": 3
   },
   "file_extension": ".py",
   "mimetype": "text/x-python",
   "name": "python",
   "nbconvert_exporter": "python",
   "pygments_lexer": "ipython3",
   "version": "3.8.5"
  }
 },
 "nbformat": 4,
 "nbformat_minor": 4
}
